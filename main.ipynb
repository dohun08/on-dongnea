{
 "cells": [
  {
   "metadata": {
    "ExecuteTime": {
     "end_time": "2025-06-15T04:17:31.577643Z",
     "start_time": "2025-06-15T04:17:31.571920Z"
    }
   },
   "cell_type": "code",
   "source": "print(\"hello world\")",
   "id": "9812260dd1cca83",
   "outputs": [
    {
     "name": "stdout",
     "output_type": "stream",
     "text": [
      "hello world\n"
     ]
    }
   ],
   "execution_count": 1
  }
 ],
 "metadata": {},
 "nbformat": 4,
 "nbformat_minor": 5
}
