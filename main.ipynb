{
 "cells": [
  {
   "metadata": {},
   "cell_type": "markdown",
   "source": [
    "# 1. 데이터 준비 및 확인\n",
    "\n",
    "# 2. 데이터 정규화 (Normalization)\n",
    "\n",
    "# 3. 가중치 부여 및 종합 점수 계산\n",
    "\n",
    "# 4. 점수 분포 분석 및 기준 설정\n",
    "\t•\t계산된 종합 점수를 기반으로 지역별 점수 분포 파악 (예: 히스토그램, 박스플롯)\n",
    "\t•\t상위 몇 %를 고독사 위험 지역으로 선정할지 기준 설정 (예: 상위 20% 지역 선정)\n",
    "\n",
    "\n",
    "# 5. 결과 해석 및 시각화\n",
    "\t•\t위험도가 높은 지역 리스트 추출\n",
    "\t•\t지도 시각화(예: Folium, geopandas)로 위험지역 시각적으로 표현\n",
    "\t•\t보고서용 표나 그래프 작성\n",
    "\n",
    "# 6. 정책 제안 및 추가 분석 (옵션)\n",
    "\t•\t위험지역에 맞춤형 복지 대책 제안\n",
    "\t•\t시간별, 연도별 변화 분석(추세 분석)\n",
    "\t•\t추가 변수(예: 경제수준, 의료기관 수 등) 포함하여 모델 고도화\n"
   ],
   "id": "bbf079ce694d126a"
  },
  {
   "metadata": {},
   "cell_type": "markdown",
   "source": "# 1. 데이터 준비 및 확인",
   "id": "b2edef9eb72ee959"
  },
  {
   "metadata": {
    "ExecuteTime": {
     "end_time": "2025-06-15T04:57:42.241509Z",
     "start_time": "2025-06-15T04:57:42.166934Z"
    }
   },
   "cell_type": "code",
   "source": [
    "import pandas as pd\n",
    "\n",
    "one_family_df = pd.read_csv('data/독거노인가구비율_시도_시_군_구__20250615135552.csv')\n",
    "public_health_center = pd.read_csv('data/보건복지부현황.csv', encoding='cp949')\n",
    "elderly_welfare = pd.read_csv('data/보건복지부_노인복지 생활시설 수 및 생활자 현황_시설 종류별_시도별_20231231.csv', encoding='cp949')\n",
    "mental_health = pd.read_excel('data/기초정신건강복지센터+현황.xlsx')"
   ],
   "id": "9812260dd1cca83",
   "outputs": [],
   "execution_count": 10
  },
  {
   "metadata": {
    "ExecuteTime": {
     "end_time": "2025-06-15T04:37:08.298640Z",
     "start_time": "2025-06-15T04:37:04.857121Z"
    }
   },
   "cell_type": "code",
   "source": "!pip install openpyxl",
   "id": "75817ccd846a31c5",
   "outputs": [
    {
     "name": "stdout",
     "output_type": "stream",
     "text": [
      "Requirement already satisfied: openpyxl in /Users/dehgns12/dddd/pythonProject/.venv/lib/python3.12/site-packages (3.1.5)\r\n",
      "Requirement already satisfied: et-xmlfile in /Users/dehgns12/dddd/pythonProject/.venv/lib/python3.12/site-packages (from openpyxl) (2.0.0)\r\n",
      "\r\n",
      "\u001B[1m[\u001B[0m\u001B[34;49mnotice\u001B[0m\u001B[1;39;49m]\u001B[0m\u001B[39;49m A new release of pip is available: \u001B[0m\u001B[31;49m23.2.1\u001B[0m\u001B[39;49m -> \u001B[0m\u001B[32;49m25.1.1\u001B[0m\r\n",
      "\u001B[1m[\u001B[0m\u001B[34;49mnotice\u001B[0m\u001B[1;39;49m]\u001B[0m\u001B[39;49m To update, run: \u001B[0m\u001B[32;49mpip install --upgrade pip\u001B[0m\r\n"
     ]
    }
   ],
   "execution_count": 3
  },
  {
   "metadata": {
    "ExecuteTime": {
     "end_time": "2025-06-15T04:37:13.413607Z",
     "start_time": "2025-06-15T04:37:13.401664Z"
    }
   },
   "cell_type": "code",
   "source": [
    "region_counts = public_health_center.groupby('시도').size().reset_index(name='지역별_개수')\n",
    "print(region_counts)"
   ],
   "id": "727661c65f82f9eb",
   "outputs": [
    {
     "name": "stdout",
     "output_type": "stream",
     "text": [
      "         시도  지역별_개수\n",
      "0   강원특별자치도     256\n",
      "1       경기도     346\n",
      "2      경상남도     421\n",
      "3      경상북도     557\n",
      "4     광주광역시      24\n",
      "5     대구광역시      27\n",
      "6     대전광역시      20\n",
      "7     부산광역시      44\n",
      "8     서울특별시      59\n",
      "9   세종특별자치시      19\n",
      "10    울산광역시      25\n",
      "11    인천광역시      69\n",
      "12     전라남도     573\n",
      "13  전북특별자치도     409\n",
      "14  제주특별자치도      67\n",
      "15     충청남도     410\n",
      "16     충청북도     272\n"
     ]
    }
   ],
   "execution_count": 5
  },
  {
   "metadata": {},
   "cell_type": "markdown",
   "source": "# 2. 데이터 정규화 (Normalization)\n",
   "id": "d05119485ad365cd"
  },
  {
   "metadata": {},
   "cell_type": "markdown",
   "source": [
    "\t•\tX : 원래 값\n",
    "\t•\tX_min : 해당 변수의 최소값\n",
    "\t•\tX_max : 해당 변수의 최대값\n",
    "\t•\tX_norm : 0과 1 사이로 변환된 값\n"
   ],
   "id": "30d85c7c6595ec97"
  },
  {
   "metadata": {
    "ExecuteTime": {
     "end_time": "2025-06-15T05:31:55.914146Z",
     "start_time": "2025-06-15T05:31:55.866719Z"
    }
   },
   "cell_type": "code",
   "source": [
    "# 독거 노인 비율 계산\n",
    "one_family = {}\n",
    "\n",
    "regions = one_family_df['행정구역별'].unique()\n",
    "\n",
    "for region in regions:\n",
    "    value = one_family_df[one_family_df['행정구역별'] == region]['65세이상 1인가구<br>(A) (가구)'].values[0]\n",
    "    one_family[region] = int(value)  # ← 여기서 np.int64 → int 로 변환\n",
    "del one_family['행정구역별']\n",
    "del one_family['전국']\n",
    "print(one_family)\n",
    "\n",
    "min_val = min(one_family.values())\n",
    "max_val = max(one_family.values())\n",
    "\n",
    "family_normalized = {region: (val - min_val) / (max_val - min_val) for region, val in one_family.items()}\n",
    "print(family_normalized)\n"
   ],
   "id": "5d823301b813b529",
   "outputs": [
    {
     "name": "stdout",
     "output_type": "stream",
     "text": [
      "{'서울특별시': 334348, '부산광역시': 174540, '대구광역시': 109018, '인천광역시': 102510, '광주광역시': 56049, '대전광역시': 54110, '울산광역시': 36987, '세종특별자치시': 7691, '경기도': 406282, '강원특별자치도': 91601, '충청북도': 79135, '충청남도': 105574, '전북특별자치도': 106075, '전라남도': 123303, '경상북도': 158914, '경상남도': 168365, '제주특별자치도': 23605}\n",
      "{'서울특별시': 0.8195292919308264, '부산광역시': 0.418597007960541, '대구광역시': 0.2542129651698107, '인천광역시': 0.23788545150291904, '광주광역시': 0.12132235800607641, '대전광역시': 0.1164577223268965, '울산광역시': 0.07349889987480901, '세종특별자치시': 0.0, '경기도': 1.0, '강원특별자치도': 0.21051654452810023, '충청북도': 0.17924137775313542, '충청남도': 0.24557252923422757, '전북특별자치도': 0.2468294567614422, '전라남도': 0.290051707138395, '경상북도': 0.3793939150658194, '경상남도': 0.4031049371410795, '제주특별자치도': 0.03992563806006658}\n"
     ]
    }
   ],
   "execution_count": 76
  },
  {
   "metadata": {
    "ExecuteTime": {
     "end_time": "2025-06-15T05:32:04.553962Z",
     "start_time": "2025-06-15T05:32:04.533014Z"
    }
   },
   "cell_type": "code",
   "source": [
    "# 보거소 비율 계산\n",
    "\n",
    "health_count = {}\n",
    "\n",
    "regions = public_health_center['시도'].unique()\n",
    "\n",
    "for region in regions :\n",
    "    value = public_health_center[public_health_center['시도']==region].count()\n",
    "    health_count[region] = int(value.iloc[0])\n",
    "\n",
    "min_val = min(health_count.values())\n",
    "max_val = max(health_count.values())\n",
    "\n",
    "health_normalized = {region: (val - min_val) / (max_val - min_val) for region, val in health_count.items()}\n",
    "print(health_normalized)"
   ],
   "id": "a885138c43c1218e",
   "outputs": [
    {
     "name": "stdout",
     "output_type": "stream",
     "text": [
      "{'서울특별시': 0.07220216606498195, '충청북도': 0.4566787003610108, '충청남도': 0.7057761732851986, '전북특별자치도': 0.703971119133574, '전라남도': 1.0, '경상북도': 0.9711191335740073, '경상남도': 0.7256317689530686, '제주특별자치도': 0.08664259927797834, '세종특별자치시': 0.0, '부산광역시': 0.04512635379061372, '대구광역시': 0.01444043321299639, '인천광역시': 0.09025270758122744, '광주광역시': 0.009025270758122744, '대전광역시': 0.0018050541516245488, '울산광역시': 0.010830324909747292, '경기도': 0.5902527075812274, '강원특별자치도': 0.427797833935018}\n"
     ]
    }
   ],
   "execution_count": 77
  },
  {
   "metadata": {
    "ExecuteTime": {
     "end_time": "2025-06-15T05:48:52.754616Z",
     "start_time": "2025-06-15T05:48:52.737963Z"
    }
   },
   "cell_type": "code",
   "source": [
    "# 노인복지 생활 시설 수\n",
    "\n",
    "elderly_welfare = elderly_welfare[elderly_welfare['연도'] == 2023]\n",
    "elderly_welfare.head()\n",
    "\n",
    "welfare = {}\n",
    "\n",
    "regions = elderly_welfare['시도'].unique()\n",
    "\n",
    "# 양로시설\n",
    "# 노인공동생활가정\n",
    "# 노인요양시설\n",
    "# 노인요양공동생활가정\n",
    "weights = [1, 1.5, 3, 2]  # 양로, 공동생활, 요양, 요양공동생활\n",
    "\n",
    "for region in regions:\n",
    "    value = []\n",
    "    value.append(elderly_welfare[elderly_welfare['시도'] == region]['노인주거복지시설_양로시설_시설수'].values[0])\n",
    "    value.append(elderly_welfare[elderly_welfare['시도'] == region]['노인주거복지시설_노인공동생활가정_시설수'].values[0])\n",
    "    value.append(elderly_welfare[elderly_welfare['시도'] == region]['노인의료복지시설_노인요양시설_시설수'].values[0])\n",
    "    value.append(elderly_welfare[elderly_welfare['시도'] == region]['노인의료복지시설_노인요양공동생활가정_시설수'].values[0])\n",
    "\n",
    "    weighted_sum = sum([v * w for v, w in zip(value, weights)])\n",
    "    welfare[region] = int(weighted_sum)\n",
    "\n",
    "\n",
    "min_val = min(welfare.values())\n",
    "max_val = max(welfare.values())\n",
    "\n",
    "welfare_normalized = {region: (val - min_val) / (max_val - min_val) for region, val in welfare.items()}\n",
    "print(welfare_normalized)\n",
    "rename_map = {\n",
    "    '서울Seoul': '서울특별시',\n",
    "    '부산Busan': '부산광역시',\n",
    "    '대구Daegu': '대구광역시',\n",
    "    '인천Incheon': '인천광역시',\n",
    "    '광주Gwangju': '광주광역시',\n",
    "    '대전Daejeon': '대전광역시',\n",
    "    '울산Ulsan': '울산광역시',\n",
    "    '세종Sejong': '세종특별자치시',\n",
    "    '경기Gyeonggi': '경기도',\n",
    "    '강원Gangwon': '강원특별자치도',\n",
    "    '충북Chungbuk': '충청북도',\n",
    "    '충남Chungnam': '충청남도',\n",
    "    '전북Jeonbuk': '전라북도',\n",
    "    '전남Jeonnam': '전라남도',\n",
    "    '경북Gyeongbuk': '경상북도',\n",
    "    '경남Gyeongnam': '경상남도',\n",
    "    '제주Jeju': '제주특별자치도'\n",
    "}\n",
    "\n",
    "welfare_normalized = {rename_map[k]: v for k, v in welfare_normalized.items()}\n",
    "\n",
    "print(welfare_normalized)"
   ],
   "id": "48422359c0e7c43e",
   "outputs": [
    {
     "name": "stdout",
     "output_type": "stream",
     "text": [
      "{'서울Seoul': 0.18899882609424787, '부산Busan': 0.043266812007378835, '대구Daegu': 0.10363910783162837, '인천Incheon': 0.22807311755827603, '광주Gwangju': 0.03940969310749623, '대전Daejeon': 0.06070769746771759, '울산Ulsan': 0.01911789367767902, '세종Sejong': 0.0, '경기Gyeonggi': 1.0, '강원Gangwon': 0.1435519034043267, '충북Chungbuk': 0.13382525574375315, '충남Chungnam': 0.15210464531276202, '전북Jeonbuk': 0.10649002180110682, '전남Jeonnam': 0.14137179272178432, '경북Gyeongbuk': 0.19134663759852424, '경남Gyeongnam': 0.11839678014422271, '제주Jeju': 0.023142713399295658}\n",
      "{'서울특별시': 0.18899882609424787, '부산광역시': 0.043266812007378835, '대구광역시': 0.10363910783162837, '인천광역시': 0.22807311755827603, '광주광역시': 0.03940969310749623, '대전광역시': 0.06070769746771759, '울산광역시': 0.01911789367767902, '세종특별자치시': 0.0, '경기도': 1.0, '강원특별자치도': 0.1435519034043267, '충청북도': 0.13382525574375315, '충청남도': 0.15210464531276202, '전라북도': 0.10649002180110682, '전라남도': 0.14137179272178432, '경상북도': 0.19134663759852424, '경상남도': 0.11839678014422271, '제주특별자치도': 0.023142713399295658}\n"
     ]
    }
   ],
   "execution_count": 92
  },
  {
   "metadata": {
    "ExecuteTime": {
     "end_time": "2025-06-15T05:49:41.847787Z",
     "start_time": "2025-06-15T05:49:41.791425Z"
    }
   },
   "cell_type": "code",
   "source": [
    "# 기초 정신건강 센터 현황\n",
    "\n",
    "mental_health.head()\n",
    "\n",
    "mental = {}\n",
    "\n",
    "regions = mental_health['시·도'].unique()\n",
    "\n",
    "for region in regions :\n",
    "    value = mental_health[mental_health['시·도']==region].count()\n",
    "    mental[region] = int(value.iloc[0])\n",
    "\n",
    "min_val = min(mental.values())\n",
    "max_val = max(mental.values())\n",
    "\n",
    "mental_normalized = {region: (val - min_val) / (max_val - min_val) for region, val in mental.items()}\n",
    "rename_map = {\n",
    "    '서울': '서울특별시',\n",
    "    '부산': '부산광역시',\n",
    "    '대구': '대구광역시',\n",
    "    '인천': '인천광역시',\n",
    "    '광주': '광주광역시',\n",
    "    '대전': '대전광역시',\n",
    "    '울산': '울산광역시',\n",
    "    '세종': '세종특별자치시',\n",
    "    '경기': '경기도',\n",
    "    '강원': '강원특별자치도',\n",
    "    '충북': '충청북도',\n",
    "    '충남': '충청남도',\n",
    "    '전북': '전라북도',\n",
    "    '전남': '전라남도',\n",
    "    '경북': '경상북도',\n",
    "    '경남': '경상남도',\n",
    "    '제주': '제주특별자치도'\n",
    "}\n",
    "\n",
    "mental_normalized = {rename_map.get(k, k): v for k, v in mental_normalized.items()}\n",
    "\n",
    "print(mental_normalized)\n"
   ],
   "id": "9621710a91021b5f",
   "outputs": [
    {
     "name": "stdout",
     "output_type": "stream",
     "text": [
      "{'서울특별시': 0.5609756097560976, '부산광역시': 0.34146341463414637, '대구광역시': 0.14634146341463414, '인천광역시': 0.21951219512195122, '광주광역시': 0.0975609756097561, '대전광역시': 0.07317073170731707, '울산광역시': 0.07317073170731707, '세종특별자치시': 0.0, '경기도': 1.0, '강원특별자치도': 0.3902439024390244, '충청북도': 0.2926829268292683, '충청남도': 0.34146341463414637, '전라북도': 0.2926829268292683, '전라남도': 0.4878048780487805, '경상북도': 0.5609756097560976, '경상남도': 0.43902439024390244, '제주특별자치도': 0.0}\n"
     ]
    }
   ],
   "execution_count": 94
  },
  {
   "metadata": {
    "ExecuteTime": {
     "end_time": "2025-06-15T05:31:36.525195Z",
     "start_time": "2025-06-15T05:31:36.506765Z"
    }
   },
   "cell_type": "code",
   "source": [
    "# 고독사 발생현황\n",
    "# pdf 자료\n",
    "lonely_death = {\n",
    "   \"서울특별시\": 559,\n",
    "    \"부산광역시\": 287,\n",
    "    \"대구광역시\": 183,\n",
    "    \"인천광역시\": 208,\n",
    "    \"광주광역시\": 94,\n",
    "    \"대전광역시\": 104,\n",
    "    \"울산광역시\": 72,\n",
    "    \"세종특별자치시\": 8,\n",
    "    \"경기도\": 922,\n",
    "    \"강원특별자치도\": 167,\n",
    "    \"충청북도\": 167,\n",
    "    \"충청남도\": 183,\n",
    "    \"전라북도\": 126,\n",
    "    \"전라남도\": 120,\n",
    "    \"경상북도\": 186,\n",
    "    \"경상남도\": 235,\n",
    "    \"제주특별자치도\": 51\n",
    "}\n",
    "\n",
    "min_val = min(lonely_death.values())\n",
    "max_val = max(lonely_death.values())\n",
    "\n",
    "death_normalized = {region: (val - min_val) / (max_val - min_val) for region, val in lonely_death.items()}\n",
    "print(death_normalized)"
   ],
   "id": "e92aadfe0ad2784e",
   "outputs": [
    {
     "name": "stdout",
     "output_type": "stream",
     "text": [
      "{'서울특별시': 0.6028446389496718, '부산광역시': 0.3052516411378556, '대구광역시': 0.19146608315098468, '인천광역시': 0.2188183807439825, '광주광역시': 0.09409190371991247, '대전광역시': 0.1050328227571116, '울산광역시': 0.0700218818380744, '세종특별자치시': 0.0, '경기도': 1.0, '강원특별자치도': 0.1739606126914661, '충청북도': 0.1739606126914661, '충청남도': 0.19146608315098468, '전라북도': 0.12910284463894967, '전라남도': 0.12253829321663019, '경상북도': 0.19474835886214442, '경상남도': 0.24835886214442013, '제주특별자치도': 0.047045951859956234}\n"
     ]
    }
   ],
   "execution_count": 75
  },
  {
   "metadata": {},
   "cell_type": "markdown",
   "source": "# 3. 가중치 부여 및 종합 점수 계산\n",
   "id": "f53b56fe1578aa65"
  },
  {
   "metadata": {
    "ExecuteTime": {
     "end_time": "2025-06-15T05:52:58.208951Z",
     "start_time": "2025-06-15T05:52:58.199583Z"
    }
   },
   "cell_type": "code",
   "source": [
    "# family_normalized\n",
    "# health_normalized\n",
    "# welfare_normalized\n",
    "# mental_normalized\n",
    "# death_normalized\n",
    "\n",
    "health_sorted = dict(sorted(health_normalized.items(), key=lambda item: item[1], reverse=True))\n",
    "welfare_sorted = dict(sorted(welfare_normalized.items(), key=lambda item: item[1], reverse=True))\n",
    "mental_sorted = dict(sorted(mental_normalized.items(), key=lambda item: item[1], reverse=True))\n",
    "print(health_sorted)\n",
    "print(welfare_sorted)\n",
    "print(mental_sorted)\n",
    "\n",
    "# 1. DataFrame 생성\n",
    "df = pd.DataFrame({\n",
    "    'family': family_normalized,\n",
    "    'health': health_normalized,\n",
    "    'welfare': welfare_normalized,\n",
    "    'mental': mental_normalized,\n",
    "    'death': death_normalized\n",
    "})\n",
    "\n",
    "# 2. 인프라 항목 반전 (많을수록 좋은 항목 → 적을수록 위험)\n",
    "reverse_cols = ['health', 'welfare', 'mental']\n",
    "for col in reverse_cols:\n",
    "    df[col] = 1 - df[col]\n",
    "\n",
    "# 3. 가중치 조정\n",
    "weights = {\n",
    "    'family': 4,    # 독거노인 수 (많으면 위험)\n",
    "    'health': 6,    # 보건소 (많으면 안전 → 1-값, 가중치 높게)\n",
    "    'welfare': 6,   # 복지시설 (많으면 안전 → 1-값, 가중치 높게)\n",
    "    'mental': 6,    # 정신건강센터 (많으면 안전 → 1-값, 가중치 높게)\n",
    "    'death': 4      # 고독사 수 (많으면 위험)\n",
    "}\n",
    "\n",
    "# 4. 가중치 적용\n",
    "for col in df.columns:\n",
    "    df[col] *= weights[col]\n",
    "\n",
    "# 5. 종합 점수 계산\n",
    "df['total_score'] = df.sum(axis=1)\n",
    "\n",
    "# 6. 정렬\n",
    "df = df.sort_values(by='total_score', ascending=False)\n",
    "\n",
    "# 결과 확인\n",
    "print(df[['total_score']])"
   ],
   "id": "c870a6b5c055eef2",
   "outputs": [
    {
     "name": "stdout",
     "output_type": "stream",
     "text": [
      "{'전라남도': 1.0, '경상북도': 0.9711191335740073, '경상남도': 0.7256317689530686, '충청남도': 0.7057761732851986, '전북특별자치도': 0.703971119133574, '경기도': 0.5902527075812274, '충청북도': 0.4566787003610108, '강원특별자치도': 0.427797833935018, '인천광역시': 0.09025270758122744, '제주특별자치도': 0.08664259927797834, '서울특별시': 0.07220216606498195, '부산광역시': 0.04512635379061372, '대구광역시': 0.01444043321299639, '울산광역시': 0.010830324909747292, '광주광역시': 0.009025270758122744, '대전광역시': 0.0018050541516245488, '세종특별자치시': 0.0}\n",
      "{'경기도': 1.0, '인천광역시': 0.22807311755827603, '경상북도': 0.19134663759852424, '서울특별시': 0.18899882609424787, '충청남도': 0.15210464531276202, '강원특별자치도': 0.1435519034043267, '전라남도': 0.14137179272178432, '충청북도': 0.13382525574375315, '경상남도': 0.11839678014422271, '전라북도': 0.10649002180110682, '대구광역시': 0.10363910783162837, '대전광역시': 0.06070769746771759, '부산광역시': 0.043266812007378835, '광주광역시': 0.03940969310749623, '제주특별자치도': 0.023142713399295658, '울산광역시': 0.01911789367767902, '세종특별자치시': 0.0}\n",
      "{'경기도': 1.0, '서울특별시': 0.5609756097560976, '경상북도': 0.5609756097560976, '전라남도': 0.4878048780487805, '경상남도': 0.43902439024390244, '강원특별자치도': 0.3902439024390244, '부산광역시': 0.34146341463414637, '충청남도': 0.34146341463414637, '충청북도': 0.2926829268292683, '전라북도': 0.2926829268292683, '인천광역시': 0.21951219512195122, '대구광역시': 0.14634146341463414, '광주광역시': 0.0975609756097561, '대전광역시': 0.07317073170731707, '울산광역시': 0.07317073170731707, '세종특별자치시': 0.0, '제주특별자치도': 0.0}\n",
      "         total_score\n",
      "서울특별시      18.756436\n",
      "부산광역시      18.316255\n",
      "대구광역시      18.196190\n",
      "대전광역시      18.071861\n",
      "세종특별자치시    18.000000\n",
      "광주광역시      17.985681\n",
      "울산광역시      17.955369\n",
      "제주특별자치도    17.689174\n",
      "인천광역시      16.599787\n",
      "충청북도       14.113687\n",
      "강원특별자치도    13.768347\n",
      "경상남도       12.907538\n",
      "충청남도       12.552089\n",
      "경기도        10.458484\n",
      "전라북도       10.121374\n",
      "경상북도        9.955921\n",
      "전라남도        9.875300\n",
      "전북특별자치도     2.763491\n"
     ]
    }
   ],
   "execution_count": 98
  },
  {
   "metadata": {},
   "cell_type": "markdown",
   "source": [
    "# 4. 점수 분포 분석 및 기준 설정\n",
    "상위 20%,\n",
    "15이상 매우 위험 : 진한 빨강 #b10026\n",
    "12~15 위험 : 빨강 #e31a1c\n",
    "9~12 보통 : 주황 #fd8d3c\n",
    "6~9 다소 낮음 : 연주황 #fecc5c\n",
    "3~6 낮음 : 연노랑 #ffffb2\n",
    "0~3 매우 낮음 : 회색 #0f0f0f0\n"
   ],
   "id": "fc11c29450e9676"
  },
  {
   "metadata": {},
   "cell_type": "code",
   "outputs": [],
   "execution_count": null,
   "source": "",
   "id": "48d14c0ab351111b"
  }
 ],
 "metadata": {},
 "nbformat": 4,
 "nbformat_minor": 5
}
